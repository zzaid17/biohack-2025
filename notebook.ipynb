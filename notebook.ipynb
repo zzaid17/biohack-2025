{
  "cells": [
    {
      "cell_type": "code",
      "execution_count": 10,
      "metadata": {
        "id": "LFoXEWDqHvsU"
      },
      "outputs": [
        {
          "name": "stderr",
          "output_type": "stream",
          "text": [
            "C:\\Users\\xvanq\\AppData\\Local\\Temp\\ipykernel_18420\\2359977942.py:7: DeprecationWarning: load_dataset is deprecated and will be removed in future version.\n",
            "  df = kagglehub.load_dataset(\n"
          ]
        },
        {
          "name": "stdout",
          "output_type": "stream",
          "text": [
            "Downloading from https://www.kaggle.com/api/v1/datasets/download/shijo96john/stress-level-prediction?dataset_version_number=1&file_name=stress_detection_data.csv...\n"
          ]
        },
        {
          "name": "stderr",
          "output_type": "stream",
          "text": [
            "100%|██████████| 78.0k/78.0k [00:00<00:00, 1.75MB/s]"
          ]
        },
        {
          "name": "stdout",
          "output_type": "stream",
          "text": [
            "First 5 records:    Age  Gender         Occupation Marital_Status  Sleep_Duration  \\\n",
            "0   30    Male  Software Engineer         Single             7.0   \n",
            "1   35  Female  Marketing Manager        Married             6.0   \n",
            "2   40    Male     Data Scientist       Divorced             7.0   \n",
            "3   35    Male  Software Engineer         Single             7.0   \n",
            "4   29  Female            Teacher         Single             8.0   \n",
            "\n",
            "   Sleep_Quality Wake_Up_Time  Bed_Time  Physical_Activity  Screen_Time  ...  \\\n",
            "0            4.0      7:00 AM  10:00 PM                2.0          4.0  ...   \n",
            "1            3.0      6:00 AM  11:00 PM                1.0          3.0  ...   \n",
            "2            4.0      7:00 AM  10:00 PM                2.0          4.0  ...   \n",
            "3            4.0      7:00 AM  10:00 PM                2.0          4.0  ...   \n",
            "4            5.0      6:30 AM  10:30 PM                3.0          2.0  ...   \n",
            "\n",
            "   Smoking_Habit  Work_Hours Travel_Time  Social_Interactions  \\\n",
            "0             No           8         1.0                    5   \n",
            "1             No           9         2.0                    3   \n",
            "2             No           8         1.0                    5   \n",
            "3             No           8         1.0                    5   \n",
            "4             No           7         1.0                    4   \n",
            "\n",
            "   Meditation_Practice      Exercise_Type Blood_Pressure Cholesterol_Level  \\\n",
            "0                  Yes             Cardio            120               180   \n",
            "1                   No               Yoga            110               160   \n",
            "2                  Yes  Strength Training            130               200   \n",
            "3                  Yes             Cardio            120               180   \n",
            "4                  Yes               Yoga            110               180   \n",
            "\n",
            "   Blood_Sugar_Level  Stress_Detection  \n",
            "0                 90               Low  \n",
            "1                 80            Medium  \n",
            "2                100              High  \n",
            "3                 90               Low  \n",
            "4                 90               Low  \n",
            "\n",
            "[5 rows x 22 columns]\n"
          ]
        },
        {
          "name": "stderr",
          "output_type": "stream",
          "text": [
            "\n"
          ]
        }
      ],
      "source": [
        "import kagglehub\n",
        "from kagglehub import KaggleDatasetAdapter\n",
        "\n",
        "# Set the path to the file you'd like to load\n",
        "file_path = \"stress_detection_data.csv\"\n",
        "\n",
        "df = kagglehub.load_dataset(\n",
        "  KaggleDatasetAdapter.PANDAS,\n",
        "  \"shijo96john/stress-level-prediction\",\n",
        "  file_path,\n",
        ")\n",
        "\n",
        "print(\"First 5 records:\", df.head())"
      ]
    },
    {
      "cell_type": "code",
      "execution_count": null,
      "metadata": {},
      "outputs": [],
      "source": []
    },
    {
      "cell_type": "code",
      "execution_count": 11,
      "metadata": {},
      "outputs": [
        {
          "name": "stdout",
          "output_type": "stream",
          "text": [
            "{'uci_id': 461, 'name': 'Drug Reviews (Druglib.com)', 'repository_url': 'https://archive.ics.uci.edu/dataset/461/drug+review+dataset+druglib+com', 'data_url': 'https://archive.ics.uci.edu/static/public/461/data.csv', 'abstract': 'The dataset provides patient reviews on specific drugs along with related conditions. Reviews and ratings are grouped into reports on the three aspects benefits, side effects and overall comment.', 'area': 'Health and Medicine', 'tasks': ['Classification', 'Regression', 'Clustering'], 'characteristics': ['Multivariate', 'Text'], 'num_instances': 4143, 'num_features': 8, 'feature_types': ['Integer'], 'demographics': [], 'target_col': None, 'index_col': ['reviewID'], 'has_missing_values': 'no', 'missing_values_symbol': None, 'year_of_dataset_creation': 2018, 'last_updated': 'Wed Apr 03 2024', 'dataset_doi': '10.24432/C55G6J', 'creators': ['Surya Kallumadi', 'Felix Grer'], 'intro_paper': {'ID': 457, 'type': 'NATIVE', 'title': 'Aspect-Based Sentiment Analysis of Drug Reviews Applying Cross-Domain and Cross-Data Learning', 'authors': 'F. Gräßer, Surya Kallumadi, H. Malberg, S. Zaunseder', 'venue': 'Digital Humanities Conference', 'year': 2018, 'journal': None, 'DOI': '10.1145/3194658.3194677', 'URL': 'https://www.semanticscholar.org/paper/4d7c25fe6131a79dfec9f45b70b270f400ac2b4f', 'sha': None, 'corpus': None, 'arxiv': None, 'mag': None, 'acl': None, 'pmid': None, 'pmcid': None}, 'additional_info': {'summary': \"The dataset provides patient reviews on specific drugs along with related conditions. Furthermore, reviews are grouped into reports on the three aspects benefits, side effects and overall comment. Additionally, ratings are available concerning overall satisfaction as well as a 5 step side effect rating and a 5 step effectiveness rating. The data was obtained by crawling online pharmaceutical review sites. The intention was to study \\r\\n\\r\\n(1) sentiment analysis of drug experience over multiple facets, i.e. sentiments learned on specific aspects such as effectiveness and side effects,\\r\\n(2) the transferability of models among domains, i.e. conditions, and \\r\\n(3) the transferability of models among different data sources (see 'Drug Review Dataset (Drugs.com)').\\r\\n\\r\\nThe data is split into a train (75%) a test (25%) partition (see publication) and stored in two .tsv (tab-separated-values) files, respectively.\\r\\n\\r\\nImportant notes:\\r\\n\\r\\nWhen using this dataset, you agree that you\\r\\n1) only use the data for research purposes\\r\\n2) don't use the data for any commerical purposes\\r\\n3) don't distribute the data to anyone else\\r\\n4) cite us\", 'purpose': None, 'funded_by': None, 'instances_represent': None, 'recommended_data_splits': None, 'sensitive_data': None, 'preprocessing_description': None, 'variable_info': '1. urlDrugName (categorical): name of drug\\r\\n2. condition (categorical): name of condition\\r\\n3. benefitsReview (text): patient on benefits\\r\\n4. sideEffectsReview (text): patient on side effects\\r\\n5. commentsReview (text): overall patient comment\\r\\n6. rating (numerical): 10 star patient rating\\r\\n7. sideEffects (categorical): 5 step side effect rating\\r\\n8. effectiveness (categorical): 5 step effectiveness rating', 'citation': None}}\n",
            "                name     role         type demographic description units  \\\n",
            "0           reviewID       ID      Integer        None        None  None   \n",
            "1        urlDrugName  Feature  Categorical        None        None  None   \n",
            "2             rating  Feature      Integer        None        None  None   \n",
            "3      effectiveness  Feature  Categorical        None        None  None   \n",
            "4        sideEffects  Feature  Categorical        None        None  None   \n",
            "5          condition  Feature  Categorical        None        None  None   \n",
            "6     benefitsReview  Feature  Categorical        None        None  None   \n",
            "7  sideEffectsReview  Feature  Categorical        None        None  None   \n",
            "8     commentsReview  Feature  Categorical        None        None  None   \n",
            "\n",
            "  missing_values  \n",
            "0             no  \n",
            "1             no  \n",
            "2             no  \n",
            "3             no  \n",
            "4             no  \n",
            "5             no  \n",
            "6             no  \n",
            "7             no  \n",
            "8             no  \n"
          ]
        }
      ],
      "source": [
        "from ucimlrepo import fetch_ucirepo \n",
        "  \n",
        "# fetch dataset \n",
        "drug_reviews_druglib_com = fetch_ucirepo(id=461) \n",
        "  \n",
        "# data (as pandas dataframes) \n",
        "X = drug_reviews_druglib_com.data.features \n",
        "y = drug_reviews_druglib_com.data.targets \n",
        "  \n",
        "# metadata \n",
        "print(drug_reviews_druglib_com.metadata) \n",
        "  \n",
        "# variable information \n",
        "print(drug_reviews_druglib_com.variables) "
      ]
    },
    {
      "cell_type": "code",
      "execution_count": null,
      "metadata": {
        "id": "upL9EcGTHw9S"
      },
      "outputs": [],
      "source": [
        "import os\n",
        "import pandas as pd\n",
        "\n",
        "# list path\n",
        "files =  os.listdir(path)\n",
        "print(files)\n",
        "\n",
        "csv_file = [f for f in files if f.endswith(\".csv\")][0]  # Pick first CSV file\n",
        "data_path = os.path.join(path, csv_file)\n",
        "\n",
        "print(data_path)\n",
        "\n",
        "df = pd.read"
      ]
    },
    {
      "cell_type": "code",
      "execution_count": null,
      "metadata": {
        "id": "uumm6_chHxAw"
      },
      "outputs": [],
      "source": [
        "df.columns"
      ]
    },
    {
      "cell_type": "code",
      "execution_count": null,
      "metadata": {
        "id": "zY64tgC9HxDF"
      },
      "outputs": [],
      "source": []
    },
    {
      "cell_type": "code",
      "execution_count": null,
      "metadata": {
        "id": "LXwr8WdPHxFn"
      },
      "outputs": [],
      "source": []
    },
    {
      "cell_type": "code",
      "execution_count": null,
      "metadata": {
        "id": "lmBQ00ERHxHy"
      },
      "outputs": [],
      "source": []
    },
    {
      "cell_type": "code",
      "execution_count": null,
      "metadata": {
        "id": "s9S_iHYNHxKk"
      },
      "outputs": [],
      "source": []
    }
  ],
  "metadata": {
    "colab": {
      "include_colab_link": true,
      "provenance": []
    },
    "kernelspec": {
      "display_name": "Python 3",
      "language": "python",
      "name": "python3"
    },
    "language_info": {
      "codemirror_mode": {
        "name": "ipython",
        "version": 3
      },
      "file_extension": ".py",
      "mimetype": "text/x-python",
      "name": "python",
      "nbconvert_exporter": "python",
      "pygments_lexer": "ipython3",
      "version": "3.13.1"
    }
  },
  "nbformat": 4,
  "nbformat_minor": 0
}
