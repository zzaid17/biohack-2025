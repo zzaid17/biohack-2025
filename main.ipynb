{
 "cells": [
  {
   "cell_type": "markdown",
   "metadata": {},
   "source": [
    "### Imports"
   ]
  },
  {
   "cell_type": "code",
   "execution_count": 95,
   "metadata": {},
   "outputs": [],
   "source": [
    "import numpy as np\n",
    "import pandas as pd\n",
    "import matplotlib.pyplot as plt\n",
    "from sklearn.preprocessing import MinMaxScaler"
   ]
  },
  {
   "cell_type": "markdown",
   "metadata": {},
   "source": [
    "# Section 1: Data Exploration and Column Consolidation"
   ]
  },
  {
   "cell_type": "code",
   "execution_count": 96,
   "metadata": {},
   "outputs": [],
   "source": [
    "cancer_og = pd.read_csv(r\"data/original-files/cancer-dataset.csv\")\n",
    "cancer_og.describe()\n",
    "\n",
    "# clean the data, save to a new csv\n",
    "cancer_og.columns = cancer_og.columns.str.lower()\n",
    "cancer = cancer_og[sorted(cancer_og.columns)]\n",
    "\n",
    "scaler = MinMaxScaler()\n",
    "cancer[\"alcoholintake\"] = scaler.fit_transform(cancer[[\"alcoholintake\"]])\n",
    "cancer[\"physicalactivity\"] = scaler.fit_transform(cancer[[\"physicalactivity\"]])\n",
    "cancer[\"geneticrisk\"] = (cancer[\"geneticrisk\"] != 0).astype(int)\n",
    "\n",
    "cancer.to_csv(r\"data/cleaned-files/cleaned-cancer-dataset.csv\", index=False)\n"
   ]
  },
  {
   "cell_type": "code",
   "execution_count": 97,
   "metadata": {},
   "outputs": [
    {
     "data": {
      "text/html": [
       "<div>\n",
       "<style scoped>\n",
       "    .dataframe tbody tr th:only-of-type {\n",
       "        vertical-align: middle;\n",
       "    }\n",
       "\n",
       "    .dataframe tbody tr th {\n",
       "        vertical-align: top;\n",
       "    }\n",
       "\n",
       "    .dataframe thead th {\n",
       "        text-align: right;\n",
       "    }\n",
       "</style>\n",
       "<table border=\"1\" class=\"dataframe\">\n",
       "  <thead>\n",
       "    <tr style=\"text-align: right;\">\n",
       "      <th></th>\n",
       "      <th>gender</th>\n",
       "      <th>age</th>\n",
       "      <th>hypertension</th>\n",
       "      <th>heart_disease</th>\n",
       "      <th>smoking</th>\n",
       "      <th>bmi</th>\n",
       "      <th>HbA1c_level</th>\n",
       "      <th>blood_glucose_level</th>\n",
       "      <th>diabetes</th>\n",
       "    </tr>\n",
       "  </thead>\n",
       "  <tbody>\n",
       "    <tr>\n",
       "      <th>0</th>\n",
       "      <td>Female</td>\n",
       "      <td>80.0</td>\n",
       "      <td>0</td>\n",
       "      <td>1</td>\n",
       "      <td>0</td>\n",
       "      <td>25.19</td>\n",
       "      <td>6.6</td>\n",
       "      <td>140</td>\n",
       "      <td>0</td>\n",
       "    </tr>\n",
       "    <tr>\n",
       "      <th>1</th>\n",
       "      <td>Female</td>\n",
       "      <td>54.0</td>\n",
       "      <td>0</td>\n",
       "      <td>0</td>\n",
       "      <td>0</td>\n",
       "      <td>27.32</td>\n",
       "      <td>6.6</td>\n",
       "      <td>80</td>\n",
       "      <td>0</td>\n",
       "    </tr>\n",
       "    <tr>\n",
       "      <th>2</th>\n",
       "      <td>Male</td>\n",
       "      <td>28.0</td>\n",
       "      <td>0</td>\n",
       "      <td>0</td>\n",
       "      <td>0</td>\n",
       "      <td>27.32</td>\n",
       "      <td>5.7</td>\n",
       "      <td>158</td>\n",
       "      <td>0</td>\n",
       "    </tr>\n",
       "    <tr>\n",
       "      <th>3</th>\n",
       "      <td>Female</td>\n",
       "      <td>36.0</td>\n",
       "      <td>0</td>\n",
       "      <td>0</td>\n",
       "      <td>1</td>\n",
       "      <td>23.45</td>\n",
       "      <td>5.0</td>\n",
       "      <td>155</td>\n",
       "      <td>0</td>\n",
       "    </tr>\n",
       "    <tr>\n",
       "      <th>4</th>\n",
       "      <td>Male</td>\n",
       "      <td>76.0</td>\n",
       "      <td>1</td>\n",
       "      <td>1</td>\n",
       "      <td>1</td>\n",
       "      <td>20.14</td>\n",
       "      <td>4.8</td>\n",
       "      <td>155</td>\n",
       "      <td>0</td>\n",
       "    </tr>\n",
       "  </tbody>\n",
       "</table>\n",
       "</div>"
      ],
      "text/plain": [
       "   gender   age  hypertension  heart_disease smoking    bmi  HbA1c_level  \\\n",
       "0  Female  80.0             0              1       0  25.19          6.6   \n",
       "1  Female  54.0             0              0       0  27.32          6.6   \n",
       "2    Male  28.0             0              0       0  27.32          5.7   \n",
       "3  Female  36.0             0              0       1  23.45          5.0   \n",
       "4    Male  76.0             1              1       1  20.14          4.8   \n",
       "\n",
       "   blood_glucose_level  diabetes  \n",
       "0                  140         0  \n",
       "1                   80         0  \n",
       "2                  158         0  \n",
       "3                  155         0  \n",
       "4                  155         0  "
      ]
     },
     "execution_count": 97,
     "metadata": {},
     "output_type": "execute_result"
    }
   ],
   "source": [
    "diabetes_og = pd.read_csv(r\"data/original-files/diabetes-dataset.csv\")\n",
    "\n",
    "diabetes_og.rename(columns={diabetes_og.columns[4]: 'smoking'}, inplace=True)\n",
    "diabetes_og['smoking'] = diabetes_og['smoking'].replace({\n",
    "    'never': 0,\n",
    "    'No Info': 0,\n",
    "    'current': 1\n",
    "})\n",
    "\n",
    "diabetes_og.head()"
   ]
  },
  {
   "cell_type": "code",
   "execution_count": 98,
   "metadata": {},
   "outputs": [],
   "source": [
    "#heart_og = pd.read_csv(r\"data/original-files/heart-dataset.csv\")\n",
    "\n",
    "\n",
    "#heart_og.drop(heart_og.columns[['Chol']], axis=1, inplace=True)\n",
    "\n",
    "\n",
    "\n",
    "#heart_og.head()"
   ]
  },
  {
   "cell_type": "code",
   "execution_count": 99,
   "metadata": {},
   "outputs": [
    {
     "name": "stderr",
     "output_type": "stream",
     "text": [
      "C:\\Users\\xvanq\\AppData\\Local\\Temp\\ipykernel_18460\\3638489268.py:8: SettingWithCopyWarning: \n",
      "A value is trying to be set on a copy of a slice from a DataFrame\n",
      "\n",
      "See the caveats in the documentation: https://pandas.pydata.org/pandas-docs/stable/user_guide/indexing.html#returning-a-view-versus-a-copy\n",
      "  stroke.drop(['id', 'ever_married', 'work_type', 'residence_type', 'avg_glucose_level'], axis=1, inplace=True)\n",
      "C:\\Users\\xvanq\\AppData\\Local\\Temp\\ipykernel_18460\\3638489268.py:11: SettingWithCopyWarning: \n",
      "A value is trying to be set on a copy of a slice from a DataFrame.\n",
      "Try using .loc[row_indexer,col_indexer] = value instead\n",
      "\n",
      "See the caveats in the documentation: https://pandas.pydata.org/pandas-docs/stable/user_guide/indexing.html#returning-a-view-versus-a-copy\n",
      "  stroke['smoking'] = stroke_og['smoking'].replace({\n",
      "C:\\Users\\xvanq\\AppData\\Local\\Temp\\ipykernel_18460\\3638489268.py:18: SettingWithCopyWarning: \n",
      "A value is trying to be set on a copy of a slice from a DataFrame\n",
      "\n",
      "See the caveats in the documentation: https://pandas.pydata.org/pandas-docs/stable/user_guide/indexing.html#returning-a-view-versus-a-copy\n",
      "  stroke.dropna(inplace=True)\n"
     ]
    }
   ],
   "source": [
    "stroke_og = pd.read_csv(r\"data/original-files/stroke-dataset.csv\")\n",
    "\n",
    "# Save clean data to a new csv file\n",
    "stroke_og.columns = stroke_og.columns.str.lower()\n",
    "stroke = stroke_og[sorted(stroke_og.columns)]\n",
    "\n",
    "# Drop irrelevant columns\n",
    "stroke.drop(['id', 'ever_married', 'work_type', 'residence_type', 'avg_glucose_level'], axis=1, inplace=True)\n",
    "\n",
    "# Normalize smoking column\n",
    "stroke['smoking'] = stroke_og['smoking'].replace({\n",
    "    'never smoked': 0,\n",
    "    'formerly smoked': 1,\n",
    "    'smokes': 1\n",
    "})\n",
    "\n",
    "# Drop rows with missing BMI values\n",
    "stroke.dropna(inplace=True)\n",
    "\n",
    "stroke.to_csv(r\"data/cleaned-files/cleaned-stroke-dataset.csv\", index=False)"
   ]
  },
  {
   "cell_type": "code",
   "execution_count": 100,
   "metadata": {},
   "outputs": [
    {
     "name": "stderr",
     "output_type": "stream",
     "text": [
      "C:\\Users\\xvanq\\AppData\\Local\\Temp\\ipykernel_18460\\4284388369.py:8: SettingWithCopyWarning: \n",
      "A value is trying to be set on a copy of a slice from a DataFrame\n",
      "\n",
      "See the caveats in the documentation: https://pandas.pydata.org/pandas-docs/stable/user_guide/indexing.html#returning-a-view-versus-a-copy\n",
      "  liver.drop('liver_function_test', axis=1, inplace=True)\n",
      "C:\\Users\\xvanq\\AppData\\Local\\Temp\\ipykernel_18460\\4284388369.py:12: SettingWithCopyWarning: \n",
      "A value is trying to be set on a copy of a slice from a DataFrame.\n",
      "Try using .loc[row_indexer,col_indexer] = value instead\n",
      "\n",
      "See the caveats in the documentation: https://pandas.pydata.org/pandas-docs/stable/user_guide/indexing.html#returning-a-view-versus-a-copy\n",
      "  liver[\"alcohol\"] = scaler.fit_transform(liver[[\"alcohol\"]])\n",
      "C:\\Users\\xvanq\\AppData\\Local\\Temp\\ipykernel_18460\\4284388369.py:13: SettingWithCopyWarning: \n",
      "A value is trying to be set on a copy of a slice from a DataFrame.\n",
      "Try using .loc[row_indexer,col_indexer] = value instead\n",
      "\n",
      "See the caveats in the documentation: https://pandas.pydata.org/pandas-docs/stable/user_guide/indexing.html#returning-a-view-versus-a-copy\n",
      "  liver[\"activity\"] = scaler.fit_transform(liver[[\"activity\"]])\n",
      "C:\\Users\\xvanq\\AppData\\Local\\Temp\\ipykernel_18460\\4284388369.py:14: SettingWithCopyWarning: \n",
      "A value is trying to be set on a copy of a slice from a DataFrame.\n",
      "Try using .loc[row_indexer,col_indexer] = value instead\n",
      "\n",
      "See the caveats in the documentation: https://pandas.pydata.org/pandas-docs/stable/user_guide/indexing.html#returning-a-view-versus-a-copy\n",
      "  liver[\"risk\"] = scaler.fit_transform(liver[[\"risk\"]])\n"
     ]
    }
   ],
   "source": [
    "liver_og = pd.read_csv(r\"data/original-files/liver-dataset.csv\")\n",
    "\n",
    "# Save clean data to a new csv file\n",
    "liver_og.columns = liver_og.columns.str.lower()\n",
    "liver = liver_og[sorted(liver_og.columns)]\n",
    "\n",
    "# Drop liver function test column\n",
    "liver.drop('liver_function_test', axis=1, inplace=True)\n",
    "\n",
    "# Normalize alcohol consumption, physical activity, and genetic risk from 0 to 1 using minmax scaler\n",
    "scaler = MinMaxScaler()\n",
    "liver[\"alcohol\"] = scaler.fit_transform(liver[[\"alcohol\"]])\n",
    "liver[\"activity\"] = scaler.fit_transform(liver[[\"activity\"]])\n",
    "liver[\"risk\"] = scaler.fit_transform(liver[[\"risk\"]])\n",
    "\n",
    "liver.to_csv(r\"data/cleaned-files/cleaned-liver-dataset.csv\", index=False)"
   ]
  }
 ],
 "metadata": {
  "kernelspec": {
   "display_name": "Python 3",
   "language": "python",
   "name": "python3"
  },
  "language_info": {
   "codemirror_mode": {
    "name": "ipython",
    "version": 3
   },
   "file_extension": ".py",
   "mimetype": "text/x-python",
   "name": "python",
   "nbconvert_exporter": "python",
   "pygments_lexer": "ipython3",
   "version": "3.12.3"
  }
 },
 "nbformat": 4,
 "nbformat_minor": 2
}
