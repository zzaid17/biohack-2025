{
 "cells": [
  {
   "cell_type": "markdown",
   "metadata": {},
   "source": [
    "# Initial Model Evaluation\n",
    "This notebook will contain preliminary testing of basic scikit-learn models, and depending on results will lead to neural network development."
   ]
  },
  {
   "cell_type": "code",
   "execution_count": 79,
   "metadata": {},
   "outputs": [],
   "source": [
    "import pandas as pd\n",
    "heart = pd.read_csv(r'data/input-files/heart.csv')\n",
    "cancer = pd.read_csv(r'data/input-files/cancer.csv')\n",
    "diabetes = pd.read_csv(r'data/input-files/diabetes.csv')\n",
    "liver = pd.read_csv(r'data/input-files/liver.csv')\n",
    "stroke = pd.read_csv(r'data/input-files/stroke.csv')"
   ]
  },
  {
   "cell_type": "code",
   "execution_count": 80,
   "metadata": {},
   "outputs": [],
   "source": [
    "from sklearn.model_selection import cross_val_score, KFold\n",
    "from sklearn.linear_model import LogisticRegression\n",
    "from sklearn.neighbors import KNeighborsClassifier\n",
    "from sklearn.naive_bayes import GaussianNB\n",
    "from sklearn.discriminant_analysis import LinearDiscriminantAnalysis as LDA, QuadraticDiscriminantAnalysis as QDA\n",
    "from sklearn.tree import DecisionTreeClassifier\n",
    "from sklearn.ensemble import RandomForestClassifier\n",
    "import numpy as np"
   ]
  },
  {
   "cell_type": "markdown",
   "metadata": {},
   "source": [
    "### Logistic Regression"
   ]
  },
  {
   "cell_type": "code",
   "execution_count": 81,
   "metadata": {},
   "outputs": [
    {
     "data": {
      "text/plain": [
       "activity       -0.008640\n",
       "age            -0.007247\n",
       "alcohol         0.007565\n",
       "bmi             0.019876\n",
       "diabetes       -0.002389\n",
       "diagnosis       1.000000\n",
       "gender         -0.005758\n",
       "genetic_risk   -0.001833\n",
       "hypertension   -0.005096\n",
       "smoking         0.006163\n",
       "Name: diagnosis, dtype: float64"
      ]
     },
     "execution_count": 81,
     "metadata": {},
     "output_type": "execute_result"
    }
   ],
   "source": [
    "# Print the correlation matrix\n",
    "from sklearn.preprocessing import LabelEncoder\n",
    "\n",
    "encoder = LabelEncoder()\n",
    "heart[\"gender\"] = encoder.fit_transform(heart[\"gender\"])\n",
    "\n",
    "heart.corr()['diagnosis']"
   ]
  },
  {
   "cell_type": "code",
   "execution_count": 82,
   "metadata": {},
   "outputs": [
    {
     "data": {
      "text/plain": [
       "activity         -0.150089\n",
       "age               0.196603\n",
       "alcohol           0.212772\n",
       "bmi               0.187560\n",
       "cancer_history    0.392188\n",
       "diagnosis         1.000000\n",
       "gender           -0.250336\n",
       "genetic_risk      0.141599\n",
       "smoking           0.226999\n",
       "Name: diagnosis, dtype: float64"
      ]
     },
     "execution_count": 82,
     "metadata": {},
     "output_type": "execute_result"
    }
   ],
   "source": [
    "cancer[\"gender\"] = encoder.fit_transform(cancer[\"gender\"])\n",
    "cancer.corr()['diagnosis']"
   ]
  },
  {
   "cell_type": "code",
   "execution_count": 83,
   "metadata": {},
   "outputs": [
    {
     "data": {
      "text/plain": [
       "age              0.258008\n",
       "bmi              0.214357\n",
       "diagnosis        1.000000\n",
       "gender           0.037411\n",
       "heart_disease    0.171727\n",
       "hypertension     0.197823\n",
       "smoking          0.092998\n",
       "Name: diagnosis, dtype: float64"
      ]
     },
     "execution_count": 83,
     "metadata": {},
     "output_type": "execute_result"
    }
   ],
   "source": [
    "diabetes[\"gender\"] = encoder.fit_transform(diabetes[\"gender\"])\n",
    "diabetes.corr()['diagnosis']"
   ]
  },
  {
   "cell_type": "code",
   "execution_count": 84,
   "metadata": {},
   "outputs": [
    {
     "data": {
      "text/plain": [
       "activity       -0.116689\n",
       "age             0.156099\n",
       "alcohol         0.349610\n",
       "bmi             0.167655\n",
       "diabetes        0.107480\n",
       "diagnosis       1.000000\n",
       "gender         -0.189558\n",
       "hypertension    0.170683\n",
       "genetic_risk    0.118292\n",
       "smoking         0.200071\n",
       "Name: diagnosis, dtype: float64"
      ]
     },
     "execution_count": 84,
     "metadata": {},
     "output_type": "execute_result"
    }
   ],
   "source": [
    "liver[\"gender\"] = encoder.fit_transform(liver[\"gender\"])\n",
    "liver.corr()['diagnosis']"
   ]
  },
  {
   "cell_type": "code",
   "execution_count": 85,
   "metadata": {},
   "outputs": [
    {
     "data": {
      "text/plain": [
       "age              0.242495\n",
       "bmi              0.011673\n",
       "diagnosis        1.000000\n",
       "gender           0.012167\n",
       "heart_disease    0.138553\n",
       "hypertension     0.143647\n",
       "smoking          0.034922\n",
       "Name: diagnosis, dtype: float64"
      ]
     },
     "execution_count": 85,
     "metadata": {},
     "output_type": "execute_result"
    }
   ],
   "source": [
    "stroke[\"gender\"] = encoder.fit_transform(stroke[\"gender\"])\n",
    "stroke.corr()['diagnosis']"
   ]
  },
  {
   "cell_type": "code",
   "execution_count": 86,
   "metadata": {},
   "outputs": [],
   "source": [
    "import numpy as np\n",
    "from sklearn.model_selection import train_test_split\n",
    "from sklearn.preprocessing import LabelEncoder\n",
    "from sklearn.linear_model import LogisticRegression\n",
    "from sklearn.metrics import accuracy_score, classification_report"
   ]
  },
  {
   "cell_type": "code",
   "execution_count": 87,
   "metadata": {},
   "outputs": [
    {
     "name": "stdout",
     "output_type": "stream",
     "text": [
      "Accuracy: 0.9359\n"
     ]
    },
    {
     "name": "stderr",
     "output_type": "stream",
     "text": [
      "c:\\Users\\noahk\\AppData\\Local\\Programs\\Python\\Python312\\Lib\\site-packages\\sklearn\\metrics\\_classification.py:1469: UndefinedMetricWarning: Precision and F-score are ill-defined and being set to 0.0 in labels with no predicted samples. Use `zero_division` parameter to control this behavior.\n",
      "  _warn_prf(average, modifier, msg_start, len(result))\n",
      "c:\\Users\\noahk\\AppData\\Local\\Programs\\Python\\Python312\\Lib\\site-packages\\sklearn\\metrics\\_classification.py:1469: UndefinedMetricWarning: Precision and F-score are ill-defined and being set to 0.0 in labels with no predicted samples. Use `zero_division` parameter to control this behavior.\n",
      "  _warn_prf(average, modifier, msg_start, len(result))\n",
      "c:\\Users\\noahk\\AppData\\Local\\Programs\\Python\\Python312\\Lib\\site-packages\\sklearn\\metrics\\_classification.py:1469: UndefinedMetricWarning: Precision and F-score are ill-defined and being set to 0.0 in labels with no predicted samples. Use `zero_division` parameter to control this behavior.\n",
      "  _warn_prf(average, modifier, msg_start, len(result))\n"
     ]
    }
   ],
   "source": [
    "# Select features (excluding 'diagnosis') and target\n",
    "X = stroke.drop(columns=['diagnosis'])\n",
    "y = stroke['diagnosis']\n",
    "\n",
    "# Split into train and test sets\n",
    "X_train, X_test, y_train, y_test = train_test_split(X, y, test_size=0.2, random_state=42)\n",
    "\n",
    "# Train logistic regression model\n",
    "model = LogisticRegression(max_iter=5000)\n",
    "model.fit(X_train, y_train)\n",
    "\n",
    "# Predict on test set\n",
    "y_pred = model.predict(X_test)\n",
    "\n",
    "# Evaluate performance\n",
    "accuracy = accuracy_score(y_test, y_pred)\n",
    "report = classification_report(y_test, y_pred)\n",
    "\n",
    "print(f\"Accuracy: {accuracy:.4f}\")"
   ]
  },
  {
   "cell_type": "code",
   "execution_count": 88,
   "metadata": {},
   "outputs": [
    {
     "name": "stdout",
     "output_type": "stream",
     "text": [
      "Accuracy: 0.8032\n"
     ]
    },
    {
     "name": "stderr",
     "output_type": "stream",
     "text": [
      "c:\\Users\\noahk\\AppData\\Local\\Programs\\Python\\Python312\\Lib\\site-packages\\sklearn\\metrics\\_classification.py:1469: UndefinedMetricWarning: Precision and F-score are ill-defined and being set to 0.0 in labels with no predicted samples. Use `zero_division` parameter to control this behavior.\n",
      "  _warn_prf(average, modifier, msg_start, len(result))\n",
      "c:\\Users\\noahk\\AppData\\Local\\Programs\\Python\\Python312\\Lib\\site-packages\\sklearn\\metrics\\_classification.py:1469: UndefinedMetricWarning: Precision and F-score are ill-defined and being set to 0.0 in labels with no predicted samples. Use `zero_division` parameter to control this behavior.\n",
      "  _warn_prf(average, modifier, msg_start, len(result))\n",
      "c:\\Users\\noahk\\AppData\\Local\\Programs\\Python\\Python312\\Lib\\site-packages\\sklearn\\metrics\\_classification.py:1469: UndefinedMetricWarning: Precision and F-score are ill-defined and being set to 0.0 in labels with no predicted samples. Use `zero_division` parameter to control this behavior.\n",
      "  _warn_prf(average, modifier, msg_start, len(result))\n"
     ]
    }
   ],
   "source": [
    "# Select features (excluding 'diagnosis') and target\n",
    "X = heart.drop(columns=['diagnosis'])\n",
    "y = heart['diagnosis']\n",
    "\n",
    "# Split into train and test sets\n",
    "X_train, X_test, y_train, y_test = train_test_split(X, y, test_size=0.2, random_state=42)\n",
    "\n",
    "# Train logistic regression model\n",
    "model = LogisticRegression(max_iter=5000)\n",
    "model.fit(X_train, y_train)\n",
    "\n",
    "# Predict on test set\n",
    "y_pred = model.predict(X_test)\n",
    "\n",
    "# Evaluate performance\n",
    "accuracy = accuracy_score(y_test, y_pred)\n",
    "report = classification_report(y_test, y_pred)\n",
    "\n",
    "print(f\"Accuracy: {accuracy:.4f}\")"
   ]
  },
  {
   "cell_type": "markdown",
   "metadata": {},
   "source": [
    "Logistic Regression, KNN, Naive Bayes, LDA, QDA, DTC, Random Forest"
   ]
  },
  {
   "cell_type": "code",
   "execution_count": null,
   "metadata": {},
   "outputs": [
    {
     "name": "stdout",
     "output_type": "stream",
     "text": [
      "Logistic Regression: Mean Accuracy = 0.7968\n",
      "KNN: Mean Accuracy = 0.7631\n",
      "Naive Bayes: Mean Accuracy = 0.7968\n",
      "LDA: Mean Accuracy = 0.7968\n",
      "QDA: Mean Accuracy = 0.7968\n",
      "Decision Tree: Mean Accuracy = 0.6619\n",
      "Random Forest: Mean Accuracy = 0.7799\n",
      "\n",
      "Sorted Results:\n",
      "Logistic Regression: 0.7968\n",
      "Naive Bayes: 0.7968\n",
      "QDA: 0.7968\n",
      "LDA: 0.7968\n",
      "Random Forest: 0.7799\n",
      "KNN: 0.7631\n",
      "Decision Tree: 0.6619\n"
     ]
    }
   ],
   "source": [
    "# define classifiers\n",
    "classifiers = {\n",
    "    \"Logistic Regression\": LogisticRegression(max_iter=1000),\n",
    "    \"KNN\": KNeighborsClassifier(),\n",
    "    \"Naive Bayes\": GaussianNB(),\n",
    "    \"LDA\": LDA(),\n",
    "    \"QDA\": QDA(),\n",
    "    \"Decision Tree\": DecisionTreeClassifier(),\n",
    "    \"Random Forest\": RandomForestClassifier()\n",
    "}\n",
    "\n",
    "# set up 10-fold cross-validation\n",
    "kf = KFold(n_splits=10, shuffle=True)\n",
    "\n",
    "# iterate through classifiers and evaluate\n",
    "def evaluate_model(name, data):\n",
    "    \n",
    "results = {}\n",
    "for name, clf in classifiers.items():\n",
    "    scores = cross_val_score(clf, X, y, cv=kf) \n",
    "    results[name] = np.mean(scores)\n",
    "\n",
    "# print results sorted by performance\n",
    "sorted_results = sorted(results.items(), key=lambda x: x[1], reverse=True)\n",
    "print(\"\\nSorted Results:\")\n",
    "for name, acc in sorted_results:\n",
    "    print(f\"{name}: {acc:.4f}\")\n"
   ]
  }
 ],
 "metadata": {
  "kernelspec": {
   "display_name": "Python 3",
   "language": "python",
   "name": "python3"
  },
  "language_info": {
   "codemirror_mode": {
    "name": "ipython",
    "version": 3
   },
   "file_extension": ".py",
   "mimetype": "text/x-python",
   "name": "python",
   "nbconvert_exporter": "python",
   "pygments_lexer": "ipython3",
   "version": "3.12.3"
  }
 },
 "nbformat": 4,
 "nbformat_minor": 2
}
