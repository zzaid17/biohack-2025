{
 "cells": [
  {
   "cell_type": "markdown",
   "metadata": {},
   "source": [
    "# Initial Model Evaluation\n",
    "This notebook will contain testing of basic scikit-learn models, and depending on results will lead to neural network development."
   ]
  },
  {
   "cell_type": "markdown",
   "metadata": {},
   "source": [
    "Imports:"
   ]
  },
  {
   "cell_type": "code",
   "execution_count": 158,
   "metadata": {},
   "outputs": [],
   "source": [
    "import pandas as pd\n",
    "from sklearn.model_selection import cross_val_score, KFold, train_test_split\n",
    "from sklearn.linear_model import LogisticRegression\n",
    "from sklearn.neighbors import KNeighborsClassifier\n",
    "from sklearn.naive_bayes import GaussianNB\n",
    "from sklearn.discriminant_analysis import LinearDiscriminantAnalysis as LDA, QuadraticDiscriminantAnalysis as QDA\n",
    "from sklearn.tree import DecisionTreeClassifier\n",
    "from sklearn.ensemble import RandomForestClassifier\n",
    "from sklearn.preprocessing import LabelEncoder, StandardScaler\n",
    "import numpy as np\n",
    "from sklearn.metrics import accuracy_score, classification_report\n",
    "import pickle"
   ]
  },
  {
   "cell_type": "markdown",
   "metadata": {},
   "source": [
    "Read processed data"
   ]
  },
  {
   "cell_type": "code",
   "execution_count": 159,
   "metadata": {},
   "outputs": [],
   "source": [
    "heart = pd.read_csv(r'data/input-files/heart.csv')\n",
    "cancer = pd.read_csv(r'data/input-files/cancer.csv')\n",
    "diabetes = pd.read_csv(r'data/input-files/diabetes.csv')\n",
    "liver = pd.read_csv(r'data/input-files/liver.csv')\n",
    "stroke = pd.read_csv(r'data/input-files/stroke.csv')"
   ]
  },
  {
   "cell_type": "markdown",
   "metadata": {},
   "source": [
    "## Correlation Analysis"
   ]
  },
  {
   "cell_type": "code",
   "execution_count": 160,
   "metadata": {},
   "outputs": [
    {
     "data": {
      "text/plain": [
       "activity       -0.008640\n",
       "age            -0.007247\n",
       "alcohol         0.007565\n",
       "bmi             0.019876\n",
       "diabetes       -0.002389\n",
       "diagnosis       1.000000\n",
       "gender         -0.005758\n",
       "genetic_risk   -0.001833\n",
       "hypertension   -0.005096\n",
       "smoking         0.006163\n",
       "Name: diagnosis, dtype: float64"
      ]
     },
     "execution_count": 160,
     "metadata": {},
     "output_type": "execute_result"
    }
   ],
   "source": [
    "# initialize encoder\n",
    "encoder = LabelEncoder()\n",
    "\n",
    "# fit encoder to gender data, print correlation vector\n",
    "heart[\"gender\"] = encoder.fit_transform(heart[\"gender\"])\n",
    "heart.corr()['diagnosis']"
   ]
  },
  {
   "cell_type": "code",
   "execution_count": 161,
   "metadata": {},
   "outputs": [
    {
     "data": {
      "text/plain": [
       "activity         -0.150089\n",
       "age               0.196603\n",
       "alcohol           0.212772\n",
       "bmi               0.187560\n",
       "cancer_history    0.392188\n",
       "diagnosis         1.000000\n",
       "gender           -0.250336\n",
       "genetic_risk      0.141599\n",
       "smoking           0.226999\n",
       "Name: diagnosis, dtype: float64"
      ]
     },
     "execution_count": 161,
     "metadata": {},
     "output_type": "execute_result"
    }
   ],
   "source": [
    "# fit encoder to gender data, print correlation vector\n",
    "cancer[\"gender\"] = encoder.fit_transform(cancer[\"gender\"])\n",
    "cancer.corr()['diagnosis']"
   ]
  },
  {
   "cell_type": "code",
   "execution_count": 162,
   "metadata": {},
   "outputs": [
    {
     "data": {
      "text/plain": [
       "age              0.258008\n",
       "bmi              0.214357\n",
       "diagnosis        1.000000\n",
       "gender           0.037411\n",
       "heart_disease    0.171727\n",
       "hypertension     0.197823\n",
       "smoking          0.092998\n",
       "Name: diagnosis, dtype: float64"
      ]
     },
     "execution_count": 162,
     "metadata": {},
     "output_type": "execute_result"
    }
   ],
   "source": [
    "# fit encoder to gender data, print correlation vector\n",
    "diabetes[\"gender\"] = encoder.fit_transform(diabetes[\"gender\"])\n",
    "diabetes.corr()['diagnosis']"
   ]
  },
  {
   "cell_type": "code",
   "execution_count": 163,
   "metadata": {},
   "outputs": [
    {
     "data": {
      "text/plain": [
       "activity       -0.116689\n",
       "age             0.156099\n",
       "alcohol         0.349610\n",
       "bmi             0.167655\n",
       "diabetes        0.107480\n",
       "diagnosis       1.000000\n",
       "gender         -0.189558\n",
       "hypertension    0.170683\n",
       "genetic_risk    0.118292\n",
       "smoking         0.200071\n",
       "Name: diagnosis, dtype: float64"
      ]
     },
     "execution_count": 163,
     "metadata": {},
     "output_type": "execute_result"
    }
   ],
   "source": [
    "# fit encoder to gender data, print correlation vector\n",
    "liver[\"gender\"] = encoder.fit_transform(liver[\"gender\"])\n",
    "liver.corr()['diagnosis']"
   ]
  },
  {
   "cell_type": "code",
   "execution_count": 164,
   "metadata": {},
   "outputs": [
    {
     "data": {
      "text/plain": [
       "age              0.242495\n",
       "bmi              0.011673\n",
       "diagnosis        1.000000\n",
       "gender           0.012167\n",
       "heart_disease    0.138553\n",
       "hypertension     0.143647\n",
       "smoking          0.034922\n",
       "Name: diagnosis, dtype: float64"
      ]
     },
     "execution_count": 164,
     "metadata": {},
     "output_type": "execute_result"
    }
   ],
   "source": [
    "# fit encoder to gender data, print correlation vector\n",
    "stroke[\"gender\"] = encoder.fit_transform(stroke[\"gender\"])\n",
    "stroke.corr()['diagnosis']"
   ]
  },
  {
   "cell_type": "markdown",
   "metadata": {},
   "source": [
    "# Testing all models (Logistic Regression, KNN, Naive Bayes, LDA, QDA, DTC, Random Forest) on each dataset\n",
    "- 10-fold cross validation is used"
   ]
  },
  {
   "cell_type": "markdown",
   "metadata": {},
   "source": [
    "**Defining a model evaluation function**"
   ]
  },
  {
   "cell_type": "code",
   "execution_count": 165,
   "metadata": {},
   "outputs": [],
   "source": [
    "# iterate through classifiers and evaluate\n",
    "def evaluate_model(dataname, data):\n",
    "\n",
    "    # define inputs and outputs\n",
    "    X = data.drop(columns=['diagnosis'])\n",
    "    y = data['diagnosis']\n",
    "\n",
    "    # define classifiers\n",
    "    classifiers = {\n",
    "    \"Logistic Regression\": LogisticRegression(max_iter=1000),\n",
    "    \"KNN\": KNeighborsClassifier(),\n",
    "    \"Naive Bayes\": GaussianNB(),\n",
    "    \"LDA\": LDA(),\n",
    "    \"QDA\": QDA(),\n",
    "    \"Decision Tree\": DecisionTreeClassifier(),\n",
    "    \"Random Forest\": RandomForestClassifier()\n",
    "    }\n",
    "\n",
    "    # set up 10-fold cross-validation\n",
    "    kf = KFold(n_splits=10, shuffle=True)\n",
    "\n",
    "    # create results storage structure\n",
    "    results = {}\n",
    "\n",
    "    # iterate through classifiers\n",
    "    for name, clf in classifiers.items():\n",
    "        scores = cross_val_score(clf, X, y, cv=kf) \n",
    "        results[name] = np.mean(scores)\n",
    "\n",
    "    # sort and print results\n",
    "    sorted_results = sorted(results.items(), key=lambda x: x[1], reverse=True)\n",
    "    print(f\"\\n{dataname} Sorted Results:\")\n",
    "    for name, acc in sorted_results:\n",
    "        print(f\"{name}: {acc:.4f}\")"
   ]
  },
  {
   "cell_type": "markdown",
   "metadata": {},
   "source": [
    "# Iterate through models"
   ]
  },
  {
   "cell_type": "code",
   "execution_count": 166,
   "metadata": {},
   "outputs": [
    {
     "name": "stdout",
     "output_type": "stream",
     "text": [
      "\n",
      "Heart Sorted Results:\n",
      "QDA: 0.7968\n",
      "Logistic Regression: 0.7968\n",
      "Naive Bayes: 0.7968\n",
      "LDA: 0.7968\n",
      "Random Forest: 0.7813\n",
      "KNN: 0.7641\n",
      "Decision Tree: 0.6557\n",
      "\n",
      "Cancer Sorted Results:\n",
      "Random Forest: 0.8633\n",
      "Logistic Regression: 0.8267\n",
      "LDA: 0.8253\n",
      "QDA: 0.8073\n",
      "Decision Tree: 0.8007\n",
      "Naive Bayes: 0.7827\n",
      "KNN: 0.6713\n",
      "\n",
      "Diabetes Sorted Results:\n",
      "Logistic Regression: 0.9148\n",
      "LDA: 0.9094\n",
      "KNN: 0.9061\n",
      "Random Forest: 0.8924\n",
      "Decision Tree: 0.8786\n",
      "Naive Bayes: 0.8686\n",
      "QDA: 0.8665\n",
      "\n",
      "Liver Sorted Results:\n",
      "Logistic Regression: 0.7529\n",
      "Random Forest: 0.7529\n",
      "LDA: 0.7512\n",
      "QDA: 0.7400\n",
      "Naive Bayes: 0.7300\n",
      "Decision Tree: 0.7035\n",
      "KNN: 0.5859\n",
      "\n",
      "Stroke Sorted Results:\n",
      "Logistic Regression: 0.9475\n",
      "KNN: 0.9437\n",
      "LDA: 0.9413\n",
      "Random Forest: 0.9329\n",
      "Decision Tree: 0.9060\n",
      "QDA: 0.8964\n",
      "Naive Bayes: 0.8862\n"
     ]
    }
   ],
   "source": [
    "datatypes = {'Heart': heart, 'Cancer': cancer, 'Diabetes': diabetes, 'Liver': liver, 'Stroke': stroke}\n",
    "for name, data in datatypes.items():\n",
    "    evaluate_model(name, data)"
   ]
  },
  {
   "cell_type": "markdown",
   "metadata": {},
   "source": [
    "## Saving models for each of the datasets\n",
    "- The entire dataset was used, as the models will now be embedded into a consumer-ready app\n",
    "- Scalers were not used as they did not improve accuracy"
   ]
  },
  {
   "cell_type": "markdown",
   "metadata": {},
   "source": [
    "Re-open csvs to ensure data is processed properly"
   ]
  },
  {
   "cell_type": "code",
   "execution_count": 175,
   "metadata": {},
   "outputs": [],
   "source": [
    "heart = pd.read_csv(r'data/input-files/heart.csv')\n",
    "cancer = pd.read_csv(r'data/input-files/cancer.csv')\n",
    "diabetes = pd.read_csv(r'data/input-files/diabetes.csv')\n",
    "liver = pd.read_csv(r'data/input-files/liver.csv')\n",
    "stroke = pd.read_csv(r'data/input-files/stroke.csv')"
   ]
  },
  {
   "cell_type": "markdown",
   "metadata": {},
   "source": [
    "Define a function that fits and dumps a model"
   ]
  },
  {
   "cell_type": "code",
   "execution_count": 176,
   "metadata": {},
   "outputs": [],
   "source": [
    "def fit_dump_model(name, model, data):\n",
    "\n",
    "    # encode gender\n",
    "    encoder = LabelEncoder()\n",
    "    data[\"gender\"] = encoder.fit_transform(data[\"gender\"])\n",
    "\n",
    "    # select inputs and target\n",
    "    X = data.drop(columns=['diagnosis'])\n",
    "    y = data['diagnosis']\n",
    "\n",
    "    # fit model\n",
    "    model.fit(X, y)\n",
    "\n",
    "    # dump model\n",
    "    with open(f\"models/{name}_model.pkl\", \"wb\") as file:\n",
    "        pickle.dump(model, file)\n",
    "\n",
    "    # confirm dumping\n",
    "    print(f\"{name} model trained and dumped\")"
   ]
  },
  {
   "cell_type": "markdown",
   "metadata": {},
   "source": [
    "Train and dump models"
   ]
  },
  {
   "cell_type": "code",
   "execution_count": 177,
   "metadata": {},
   "outputs": [
    {
     "name": "stdout",
     "output_type": "stream",
     "text": [
      "heart model trained and dumped\n",
      "cancer model trained and dumped\n",
      "diabetes model trained and dumped\n",
      "liver model trained and dumped\n",
      "stroke model trained and dumped\n"
     ]
    }
   ],
   "source": [
    "# fitting logistic regression for heart dataset\n",
    "model = LogisticRegression(max_iter=5000)\n",
    "fit_dump_model(\"heart\", model, heart)\n",
    "\n",
    "# fitting random forest for cancer dataset\n",
    "model = RandomForestClassifier()\n",
    "fit_dump_model(\"cancer\", model, cancer)\n",
    "\n",
    "# fitting logistic regression for diabetes dataset\n",
    "model = LogisticRegression(max_iter=5000)\n",
    "fit_dump_model(\"diabetes\", model, diabetes)\n",
    "\n",
    "# fitting random forest for liver dataset\n",
    "model = RandomForestClassifier()\n",
    "fit_dump_model(\"liver\", model, liver)\n",
    "\n",
    "# fitting logistic regression for stroke dataset\n",
    "model = LogisticRegression(max_iter=5000)\n",
    "fit_dump_model(\"stroke\", model, stroke)"
   ]
  },
  {
   "cell_type": "markdown",
   "metadata": {},
   "source": [
    "Load and test a model"
   ]
  },
  {
   "cell_type": "code",
   "execution_count": null,
   "metadata": {},
   "outputs": [
    {
     "name": "stdout",
     "output_type": "stream",
     "text": [
      "Accuracy: 0.7968\n"
     ]
    }
   ],
   "source": [
    "# load a model\n",
    "with open(\"models/heart_model.pkl\", \"rb\") as file:\n",
    "    loaded_model = pickle.load(file)\n",
    "\n",
    "# fit a scaler to gender\n",
    "encoder = LabelEncoder()  # You should initialize the encoder if it's not already defined\n",
    "heart[\"gender\"] = encoder.fit_transform(heart[\"gender\"])\n",
    "\n",
    "# define inputs and outputs\n",
    "X = heart.drop(columns=['diagnosis'])\n",
    "y = heart['diagnosis']\n",
    "\n",
    "# make prediction \n",
    "prediction = loaded_model.predict(X)\n",
    "\n",
    "# print accuracy\n",
    "accuracy = accuracy_score(y, prediction)\n",
    "print(f\"Accuracy: {accuracy:.2f}\")"
   ]
  }
 ],
 "metadata": {
  "kernelspec": {
   "display_name": "Python 3",
   "language": "python",
   "name": "python3"
  },
  "language_info": {
   "codemirror_mode": {
    "name": "ipython",
    "version": 3
   },
   "file_extension": ".py",
   "mimetype": "text/x-python",
   "name": "python",
   "nbconvert_exporter": "python",
   "pygments_lexer": "ipython3",
   "version": "3.12.3"
  }
 },
 "nbformat": 4,
 "nbformat_minor": 2
}
